{
 "cells": [
  {
   "cell_type": "code",
   "execution_count": 2,
   "id": "adf67d6e",
   "metadata": {},
   "outputs": [],
   "source": [
    "import pandas as pd\n",
    "import numpy as np\n",
    "import seaborn as sns\n",
    "import matplotlib.pyplot as plt"
   ]
  },
  {
   "cell_type": "code",
   "execution_count": 3,
   "id": "f3fedce2",
   "metadata": {},
   "outputs": [
    {
     "data": {
      "text/html": [
       "<div>\n",
       "<style scoped>\n",
       "    .dataframe tbody tr th:only-of-type {\n",
       "        vertical-align: middle;\n",
       "    }\n",
       "\n",
       "    .dataframe tbody tr th {\n",
       "        vertical-align: top;\n",
       "    }\n",
       "\n",
       "    .dataframe thead th {\n",
       "        text-align: right;\n",
       "    }\n",
       "</style>\n",
       "<table border=\"1\" class=\"dataframe\">\n",
       "  <thead>\n",
       "    <tr style=\"text-align: right;\">\n",
       "      <th></th>\n",
       "      <th>Dept</th>\n",
       "      <th>Age</th>\n",
       "      <th>Experience</th>\n",
       "      <th>Salary</th>\n",
       "      <th>Education</th>\n",
       "      <th>Projects</th>\n",
       "    </tr>\n",
       "  </thead>\n",
       "  <tbody>\n",
       "    <tr>\n",
       "      <th>0</th>\n",
       "      <td>HR</td>\n",
       "      <td>32.0</td>\n",
       "      <td>9</td>\n",
       "      <td>40000.0</td>\n",
       "      <td>Under_Graduate</td>\n",
       "      <td>0.0</td>\n",
       "    </tr>\n",
       "    <tr>\n",
       "      <th>1</th>\n",
       "      <td>HR</td>\n",
       "      <td>33.0</td>\n",
       "      <td>12</td>\n",
       "      <td>48000.0</td>\n",
       "      <td>Master</td>\n",
       "      <td>0.0</td>\n",
       "    </tr>\n",
       "  </tbody>\n",
       "</table>\n",
       "</div>"
      ],
      "text/plain": [
       "  Dept   Age Experience   Salary       Education  Projects\n",
       "0   HR  32.0          9  40000.0  Under_Graduate       0.0\n",
       "1   HR  33.0         12  48000.0          Master       0.0"
      ]
     },
     "execution_count": 3,
     "metadata": {},
     "output_type": "execute_result"
    }
   ],
   "source": [
    "# Reading the file\n",
    "df=pd.read_excel(\"datasets\\\\dataset_preprocessing.xlsx\")\n",
    "df1 = df.copy()\n",
    "df1.head(2)"
   ]
  },
  {
   "cell_type": "code",
   "execution_count": 4,
   "id": "5ab13fcd",
   "metadata": {},
   "outputs": [
    {
     "name": "stdout",
     "output_type": "stream",
     "text": [
      "<class 'pandas.core.frame.DataFrame'>\n",
      "RangeIndex: 33 entries, 0 to 32\n",
      "Data columns (total 6 columns):\n",
      " #   Column      Non-Null Count  Dtype  \n",
      "---  ------      --------------  -----  \n",
      " 0   Dept        31 non-null     object \n",
      " 1   Age         30 non-null     float64\n",
      " 2   Experience  29 non-null     object \n",
      " 3   Salary      31 non-null     float64\n",
      " 4   Education   31 non-null     object \n",
      " 5   Projects    27 non-null     float64\n",
      "dtypes: float64(3), object(3)\n",
      "memory usage: 1.7+ KB\n"
     ]
    }
   ],
   "source": [
    "df1.info()"
   ]
  },
  {
   "cell_type": "code",
   "execution_count": 5,
   "id": "2ae5f9a0",
   "metadata": {},
   "outputs": [
    {
     "data": {
      "text/html": [
       "<div>\n",
       "<style scoped>\n",
       "    .dataframe tbody tr th:only-of-type {\n",
       "        vertical-align: middle;\n",
       "    }\n",
       "\n",
       "    .dataframe tbody tr th {\n",
       "        vertical-align: top;\n",
       "    }\n",
       "\n",
       "    .dataframe thead th {\n",
       "        text-align: right;\n",
       "    }\n",
       "</style>\n",
       "<table border=\"1\" class=\"dataframe\">\n",
       "  <thead>\n",
       "    <tr style=\"text-align: right;\">\n",
       "      <th></th>\n",
       "      <th>Age</th>\n",
       "      <th>Salary</th>\n",
       "      <th>Projects</th>\n",
       "    </tr>\n",
       "  </thead>\n",
       "  <tbody>\n",
       "    <tr>\n",
       "      <th>count</th>\n",
       "      <td>30.000000</td>\n",
       "      <td>31.000000</td>\n",
       "      <td>27.000000</td>\n",
       "    </tr>\n",
       "    <tr>\n",
       "      <th>mean</th>\n",
       "      <td>37.333333</td>\n",
       "      <td>41983.870968</td>\n",
       "      <td>2.148148</td>\n",
       "    </tr>\n",
       "    <tr>\n",
       "      <th>std</th>\n",
       "      <td>18.690461</td>\n",
       "      <td>15998.168578</td>\n",
       "      <td>1.261980</td>\n",
       "    </tr>\n",
       "    <tr>\n",
       "      <th>min</th>\n",
       "      <td>0.000000</td>\n",
       "      <td>20000.000000</td>\n",
       "      <td>0.000000</td>\n",
       "    </tr>\n",
       "    <tr>\n",
       "      <th>25%</th>\n",
       "      <td>29.500000</td>\n",
       "      <td>35500.000000</td>\n",
       "      <td>1.000000</td>\n",
       "    </tr>\n",
       "    <tr>\n",
       "      <th>50%</th>\n",
       "      <td>34.500000</td>\n",
       "      <td>42000.000000</td>\n",
       "      <td>2.000000</td>\n",
       "    </tr>\n",
       "    <tr>\n",
       "      <th>75%</th>\n",
       "      <td>48.750000</td>\n",
       "      <td>45250.000000</td>\n",
       "      <td>3.000000</td>\n",
       "    </tr>\n",
       "    <tr>\n",
       "      <th>max</th>\n",
       "      <td>75.000000</td>\n",
       "      <td>90000.000000</td>\n",
       "      <td>5.000000</td>\n",
       "    </tr>\n",
       "  </tbody>\n",
       "</table>\n",
       "</div>"
      ],
      "text/plain": [
       "             Age        Salary   Projects\n",
       "count  30.000000     31.000000  27.000000\n",
       "mean   37.333333  41983.870968   2.148148\n",
       "std    18.690461  15998.168578   1.261980\n",
       "min     0.000000  20000.000000   0.000000\n",
       "25%    29.500000  35500.000000   1.000000\n",
       "50%    34.500000  42000.000000   2.000000\n",
       "75%    48.750000  45250.000000   3.000000\n",
       "max    75.000000  90000.000000   5.000000"
      ]
     },
     "execution_count": 5,
     "metadata": {},
     "output_type": "execute_result"
    }
   ],
   "source": [
    "df1.describe()"
   ]
  },
  {
   "cell_type": "code",
   "execution_count": 6,
   "id": "780f890a",
   "metadata": {},
   "outputs": [
    {
     "data": {
      "text/html": [
       "<div>\n",
       "<style scoped>\n",
       "    .dataframe tbody tr th:only-of-type {\n",
       "        vertical-align: middle;\n",
       "    }\n",
       "\n",
       "    .dataframe tbody tr th {\n",
       "        vertical-align: top;\n",
       "    }\n",
       "\n",
       "    .dataframe thead th {\n",
       "        text-align: right;\n",
       "    }\n",
       "</style>\n",
       "<table border=\"1\" class=\"dataframe\">\n",
       "  <thead>\n",
       "    <tr style=\"text-align: right;\">\n",
       "      <th></th>\n",
       "      <th>Dept</th>\n",
       "      <th>Experience</th>\n",
       "      <th>Education</th>\n",
       "    </tr>\n",
       "  </thead>\n",
       "  <tbody>\n",
       "    <tr>\n",
       "      <th>count</th>\n",
       "      <td>31</td>\n",
       "      <td>29</td>\n",
       "      <td>31</td>\n",
       "    </tr>\n",
       "    <tr>\n",
       "      <th>unique</th>\n",
       "      <td>4</td>\n",
       "      <td>15</td>\n",
       "      <td>5</td>\n",
       "    </tr>\n",
       "    <tr>\n",
       "      <th>top</th>\n",
       "      <td>HR</td>\n",
       "      <td>12</td>\n",
       "      <td>Master</td>\n",
       "    </tr>\n",
       "    <tr>\n",
       "      <th>freq</th>\n",
       "      <td>13</td>\n",
       "      <td>6</td>\n",
       "      <td>12</td>\n",
       "    </tr>\n",
       "  </tbody>\n",
       "</table>\n",
       "</div>"
      ],
      "text/plain": [
       "       Dept  Experience Education\n",
       "count    31          29        31\n",
       "unique    4          15         5\n",
       "top      HR          12    Master\n",
       "freq     13           6        12"
      ]
     },
     "execution_count": 6,
     "metadata": {},
     "output_type": "execute_result"
    }
   ],
   "source": [
    "df1.describe(include=\"object\")"
   ]
  },
  {
   "cell_type": "code",
   "execution_count": 8,
   "id": "51eafcfd",
   "metadata": {},
   "outputs": [
    {
     "data": {
      "text/plain": [
       "Dept          2\n",
       "Age           3\n",
       "Experience    4\n",
       "Salary        2\n",
       "Education     2\n",
       "Projects      6\n",
       "dtype: int64"
      ]
     },
     "execution_count": 8,
     "metadata": {},
     "output_type": "execute_result"
    }
   ],
   "source": [
    "# Finding the missing value\n",
    "df1.isnull().sum()"
   ]
  },
  {
   "cell_type": "code",
   "execution_count": 9,
   "id": "ebf51f40",
   "metadata": {},
   "outputs": [
    {
     "data": {
      "text/plain": [
       "Dept           6.060606\n",
       "Age            9.090909\n",
       "Experience    12.121212\n",
       "Salary         6.060606\n",
       "Education      6.060606\n",
       "Projects      18.181818\n",
       "dtype: float64"
      ]
     },
     "execution_count": 9,
     "metadata": {},
     "output_type": "execute_result"
    }
   ],
   "source": [
    "# percentage of missing value\n",
    "df1.isnull().mean()*100"
   ]
  },
  {
   "cell_type": "markdown",
   "id": "88cdc33b",
   "metadata": {},
   "source": [
    "#### How to handle missing values?\n",
    "\n",
    "- If the column has more than 50% missing value. Drop the column because imputation approach will have a good amount of biasness. (Basically filling with fake values)\n",
    "- If we have less no. of missiing value say 20%. we can apply imputation. (filling values)\n",
    "- If we have some 2-3% missing value we can drop the missing value. -- row wise drop approach"
   ]
  },
  {
   "cell_type": "code",
   "execution_count": 12,
   "id": "a6952830",
   "metadata": {},
   "outputs": [
    {
     "data": {
      "text/plain": [
       "0     32.0\n",
       "1     33.0\n",
       "2     35.0\n",
       "3      NaN\n",
       "4     34.0\n",
       "5     33.0\n",
       "6     56.0\n",
       "7      NaN\n",
       "8     31.0\n",
       "9     45.0\n",
       "10    50.0\n",
       "11    75.0\n",
       "12    29.0\n",
       "13    32.0\n",
       "14    38.0\n",
       "15     0.0\n",
       "16    42.0\n",
       "17    50.0\n",
       "18    38.0\n",
       "19     0.0\n",
       "20    52.0\n",
       "21    27.0\n",
       "22    42.0\n",
       "23     0.0\n",
       "24    51.0\n",
       "25    28.0\n",
       "26    29.0\n",
       "27    42.0\n",
       "28    70.0\n",
       "29    32.0\n",
       "30    19.0\n",
       "31    75.0\n",
       "32     NaN\n",
       "Name: Age, dtype: float64"
      ]
     },
     "execution_count": 12,
     "metadata": {},
     "output_type": "execute_result"
    }
   ],
   "source": [
    "df1[\"Age\"]"
   ]
  },
  {
   "cell_type": "code",
   "execution_count": 14,
   "id": "1a00c096",
   "metadata": {},
   "outputs": [],
   "source": [
    "# apply the mean/median approach on the numerical data type\n",
    "\n",
    "# df1[\"Age\"]=df1[\"Age\"].fillna(df1[\"Age\"].mean()) # it will fill with mean value\n",
    "df1[\"Age\"].fillna(df1[\"Age\"].median(),inplace=True) # it will with median value"
   ]
  },
  {
   "cell_type": "code",
   "execution_count": 203,
   "id": "85bbfac7",
   "metadata": {},
   "outputs": [
    {
     "data": {
      "text/plain": [
       "12     6\n",
       "11     4\n",
       "2      4\n",
       "14     3\n",
       "13     2\n",
       "9      1\n",
       "10     1\n",
       "8.5    1\n",
       "35     1\n",
       ".      1\n",
       "%      1\n",
       "a      1\n",
       "45     1\n",
       "0      1\n",
       "50     1\n",
       "Name: Experience, dtype: int64"
      ]
     },
     "execution_count": 203,
     "metadata": {},
     "output_type": "execute_result"
    }
   ],
   "source": [
    "df1[\"Experience\"].value_counts()"
   ]
  },
  {
   "cell_type": "code",
   "execution_count": 220,
   "id": "366eb702",
   "metadata": {},
   "outputs": [
    {
     "data": {
      "text/plain": [
       "12.0    6\n",
       "11.0    4\n",
       "2.0     4\n",
       "14.0    3\n",
       "13.0    2\n",
       "9.0     1\n",
       "10.0    1\n",
       "8.5     1\n",
       "35.0    1\n",
       "45.0    1\n",
       "0.0     1\n",
       "50.0    1\n",
       "Name: Experience, dtype: int64"
      ]
     },
     "execution_count": 220,
     "metadata": {},
     "output_type": "execute_result"
    }
   ],
   "source": [
    "df1[\"Experience\"].replace(['%', '.', 'a'], np.nan, inplace=True)\n",
    "df1[\"Experience\"].value_counts()"
   ]
  },
  {
   "cell_type": "code",
   "execution_count": 221,
   "id": "64f0293a",
   "metadata": {},
   "outputs": [],
   "source": [
    "df1[\"Experience\"]=pd.to_numeric(df1[\"Experience\"])"
   ]
  },
  {
   "cell_type": "code",
   "execution_count": 222,
   "id": "367c74d8",
   "metadata": {},
   "outputs": [],
   "source": [
    "df1[\"Experience\"]=df1[\"Experience\"].fillna(df1[\"Experience\"].mean())"
   ]
  },
  {
   "cell_type": "code",
   "execution_count": 224,
   "id": "599d2e58",
   "metadata": {},
   "outputs": [
    {
     "data": {
      "text/plain": [
       "HR           13\n",
       "IT            8\n",
       "Sales         6\n",
       "Marketing     4\n",
       "Name: Dept, dtype: int64"
      ]
     },
     "execution_count": 224,
     "metadata": {},
     "output_type": "execute_result"
    }
   ],
   "source": [
    "df1[\"Dept\"].value_counts()"
   ]
  },
  {
   "cell_type": "code",
   "execution_count": 18,
   "id": "54545025",
   "metadata": {},
   "outputs": [
    {
     "data": {
      "text/plain": [
       "'HR'"
      ]
     },
     "execution_count": 18,
     "metadata": {},
     "output_type": "execute_result"
    }
   ],
   "source": [
    "df1[\"Dept\"].mode()[0]"
   ]
  },
  {
   "cell_type": "code",
   "execution_count": 235,
   "id": "55271627",
   "metadata": {},
   "outputs": [],
   "source": [
    "df1[\"Dept\"].fillna(df1[\"Dept\"].mode()[0],inplace=True)"
   ]
  },
  {
   "cell_type": "code",
   "execution_count": 236,
   "id": "48e38b1e",
   "metadata": {},
   "outputs": [
    {
     "data": {
      "text/plain": [
       "0"
      ]
     },
     "execution_count": 236,
     "metadata": {},
     "output_type": "execute_result"
    }
   ],
   "source": [
    "df1[\"Dept\"].isnull().sum()"
   ]
  },
  {
   "cell_type": "code",
   "execution_count": 43,
   "id": "18ba3de5",
   "metadata": {},
   "outputs": [],
   "source": [
    "# All categorical columns\n",
    "cat_cols=[\"Dept\",\"Education\"]"
   ]
  },
  {
   "cell_type": "code",
   "execution_count": 237,
   "id": "27805b80",
   "metadata": {},
   "outputs": [],
   "source": [
    "df1[cat_cols]=df1[cat_cols].fillna(df1[cat_cols].mode().iloc[0])"
   ]
  },
  {
   "cell_type": "code",
   "execution_count": 238,
   "id": "b22a457a",
   "metadata": {},
   "outputs": [],
   "source": [
    "# All numerical columns\n",
    "num_cols=[\"Salary\",\"Projects\"]"
   ]
  },
  {
   "cell_type": "code",
   "execution_count": 239,
   "id": "4fb3f681",
   "metadata": {},
   "outputs": [],
   "source": [
    "df1[num_cols]=df1[num_cols].fillna(df1[num_cols].mean())"
   ]
  },
  {
   "cell_type": "code",
   "execution_count": 20,
   "id": "42db7c3d",
   "metadata": {},
   "outputs": [],
   "source": [
    "df2 = df.copy()"
   ]
  },
  {
   "cell_type": "code",
   "execution_count": 21,
   "id": "caff085d",
   "metadata": {},
   "outputs": [
    {
     "data": {
      "text/plain": [
       "Index(['Dept', 'Age', 'Experience', 'Salary', 'Education'], dtype='object')"
      ]
     },
     "execution_count": 21,
     "metadata": {},
     "output_type": "execute_result"
    }
   ],
   "source": [
    "# If the column has more than 50% missing value. \n",
    "# Drop the column because imputation approach will have a good amount of biasness.\n",
    "# (Basically filling with fake values)\n",
    "df2.isna().sum()\n",
    "df2.drop(columns=['Projects'],inplace=True)\n",
    "df2.columns"
   ]
  },
  {
   "cell_type": "code",
   "execution_count": 254,
   "id": "924435fd",
   "metadata": {},
   "outputs": [
    {
     "data": {
      "text/plain": [
       "0"
      ]
     },
     "execution_count": 254,
     "metadata": {},
     "output_type": "execute_result"
    }
   ],
   "source": [
    "df.drop(df[df2[\"Salary\"].isna()].index)['Salary'].isna().sum()"
   ]
  },
  {
   "cell_type": "code",
   "execution_count": 24,
   "id": "19d6f393",
   "metadata": {},
   "outputs": [
    {
     "data": {
      "text/plain": [
       "Int64Index([4, 9], dtype='int64')"
      ]
     },
     "execution_count": 24,
     "metadata": {},
     "output_type": "execute_result"
    }
   ],
   "source": [
    "df[df2[\"Salary\"].isna()].index"
   ]
  },
  {
   "cell_type": "code",
   "execution_count": 249,
   "id": "b380fded",
   "metadata": {},
   "outputs": [
    {
     "data": {
      "text/plain": [
       "Int64Index([8, 10, 14, 15], dtype='int64')"
      ]
     },
     "execution_count": 249,
     "metadata": {},
     "output_type": "execute_result"
    }
   ],
   "source": [
    "# If we have some 2-3% missing value we can drop the missing value. -- row wise drop approach\n",
    "\n",
    "df2.drop(df2[df2[\"Salary\"].isna()].index,inplace=True)\n",
    "df2.isna().sum()"
   ]
  },
  {
   "cell_type": "code",
   "execution_count": 246,
   "id": "68914e0d",
   "metadata": {},
   "outputs": [
    {
     "data": {
      "text/plain": [
       "4"
      ]
     },
     "execution_count": 246,
     "metadata": {},
     "output_type": "execute_result"
    }
   ],
   "source": [
    "df2['Experience'].isna().sum()"
   ]
  },
  {
   "cell_type": "code",
   "execution_count": 255,
   "id": "d7b1fc64",
   "metadata": {},
   "outputs": [
    {
     "data": {
      "text/html": [
       "<div>\n",
       "<style scoped>\n",
       "    .dataframe tbody tr th:only-of-type {\n",
       "        vertical-align: middle;\n",
       "    }\n",
       "\n",
       "    .dataframe tbody tr th {\n",
       "        vertical-align: top;\n",
       "    }\n",
       "\n",
       "    .dataframe thead th {\n",
       "        text-align: right;\n",
       "    }\n",
       "</style>\n",
       "<table border=\"1\" class=\"dataframe\">\n",
       "  <thead>\n",
       "    <tr style=\"text-align: right;\">\n",
       "      <th></th>\n",
       "      <th>Dept</th>\n",
       "      <th>Age</th>\n",
       "      <th>Experience</th>\n",
       "      <th>Salary</th>\n",
       "      <th>Education</th>\n",
       "      <th>Projects</th>\n",
       "    </tr>\n",
       "  </thead>\n",
       "  <tbody>\n",
       "    <tr>\n",
       "      <th>0</th>\n",
       "      <td>HR</td>\n",
       "      <td>32.0</td>\n",
       "      <td>9</td>\n",
       "      <td>40000.0</td>\n",
       "      <td>Under_Graduate</td>\n",
       "      <td>0.0</td>\n",
       "    </tr>\n",
       "    <tr>\n",
       "      <th>1</th>\n",
       "      <td>HR</td>\n",
       "      <td>33.0</td>\n",
       "      <td>12</td>\n",
       "      <td>48000.0</td>\n",
       "      <td>Master</td>\n",
       "      <td>0.0</td>\n",
       "    </tr>\n",
       "    <tr>\n",
       "      <th>2</th>\n",
       "      <td>IT</td>\n",
       "      <td>35.0</td>\n",
       "      <td>12</td>\n",
       "      <td>45000.0</td>\n",
       "      <td>Master</td>\n",
       "      <td>5.0</td>\n",
       "    </tr>\n",
       "    <tr>\n",
       "      <th>3</th>\n",
       "      <td>IT</td>\n",
       "      <td>NaN</td>\n",
       "      <td>12</td>\n",
       "      <td>46000.0</td>\n",
       "      <td>Graduate</td>\n",
       "      <td>5.0</td>\n",
       "    </tr>\n",
       "    <tr>\n",
       "      <th>4</th>\n",
       "      <td>HR</td>\n",
       "      <td>34.0</td>\n",
       "      <td>11</td>\n",
       "      <td>NaN</td>\n",
       "      <td>Graduate</td>\n",
       "      <td>2.0</td>\n",
       "    </tr>\n",
       "    <tr>\n",
       "      <th>5</th>\n",
       "      <td>IT</td>\n",
       "      <td>33.0</td>\n",
       "      <td>13</td>\n",
       "      <td>42000.0</td>\n",
       "      <td>NaN</td>\n",
       "      <td>1.0</td>\n",
       "    </tr>\n",
       "    <tr>\n",
       "      <th>6</th>\n",
       "      <td>Marketing</td>\n",
       "      <td>56.0</td>\n",
       "      <td>12</td>\n",
       "      <td>39000.0</td>\n",
       "      <td>Master</td>\n",
       "      <td>NaN</td>\n",
       "    </tr>\n",
       "    <tr>\n",
       "      <th>7</th>\n",
       "      <td>HR</td>\n",
       "      <td>NaN</td>\n",
       "      <td>10</td>\n",
       "      <td>42000.0</td>\n",
       "      <td>Master</td>\n",
       "      <td>NaN</td>\n",
       "    </tr>\n",
       "    <tr>\n",
       "      <th>8</th>\n",
       "      <td>Marketing</td>\n",
       "      <td>31.0</td>\n",
       "      <td>NaN</td>\n",
       "      <td>36000.0</td>\n",
       "      <td>Under_Graduate</td>\n",
       "      <td>2.0</td>\n",
       "    </tr>\n",
       "    <tr>\n",
       "      <th>9</th>\n",
       "      <td>IT</td>\n",
       "      <td>45.0</td>\n",
       "      <td>14</td>\n",
       "      <td>NaN</td>\n",
       "      <td>Master</td>\n",
       "      <td>3.0</td>\n",
       "    </tr>\n",
       "    <tr>\n",
       "      <th>10</th>\n",
       "      <td>Sales</td>\n",
       "      <td>50.0</td>\n",
       "      <td>NaN</td>\n",
       "      <td>46000.0</td>\n",
       "      <td>Master</td>\n",
       "      <td>3.0</td>\n",
       "    </tr>\n",
       "    <tr>\n",
       "      <th>11</th>\n",
       "      <td>NaN</td>\n",
       "      <td>75.0</td>\n",
       "      <td>14</td>\n",
       "      <td>45500.0</td>\n",
       "      <td>Graduate</td>\n",
       "      <td>3.0</td>\n",
       "    </tr>\n",
       "    <tr>\n",
       "      <th>12</th>\n",
       "      <td>NaN</td>\n",
       "      <td>29.0</td>\n",
       "      <td>8.5</td>\n",
       "      <td>38000.0</td>\n",
       "      <td>NaN</td>\n",
       "      <td>3.0</td>\n",
       "    </tr>\n",
       "    <tr>\n",
       "      <th>13</th>\n",
       "      <td>HR</td>\n",
       "      <td>32.0</td>\n",
       "      <td>11</td>\n",
       "      <td>39000.0</td>\n",
       "      <td>Under_Graduate</td>\n",
       "      <td>NaN</td>\n",
       "    </tr>\n",
       "    <tr>\n",
       "      <th>14</th>\n",
       "      <td>Sales</td>\n",
       "      <td>38.0</td>\n",
       "      <td>NaN</td>\n",
       "      <td>35000.0</td>\n",
       "      <td>Master</td>\n",
       "      <td>NaN</td>\n",
       "    </tr>\n",
       "    <tr>\n",
       "      <th>15</th>\n",
       "      <td>HR</td>\n",
       "      <td>0.0</td>\n",
       "      <td>NaN</td>\n",
       "      <td>32000.0</td>\n",
       "      <td>Under_Graduate</td>\n",
       "      <td>3.0</td>\n",
       "    </tr>\n",
       "    <tr>\n",
       "      <th>16</th>\n",
       "      <td>IT</td>\n",
       "      <td>42.0</td>\n",
       "      <td>14</td>\n",
       "      <td>42000.0</td>\n",
       "      <td>Graduate</td>\n",
       "      <td>3.0</td>\n",
       "    </tr>\n",
       "    <tr>\n",
       "      <th>17</th>\n",
       "      <td>Marketing</td>\n",
       "      <td>50.0</td>\n",
       "      <td>13</td>\n",
       "      <td>39000.0</td>\n",
       "      <td>Master</td>\n",
       "      <td>3.0</td>\n",
       "    </tr>\n",
       "    <tr>\n",
       "      <th>18</th>\n",
       "      <td>HR</td>\n",
       "      <td>38.0</td>\n",
       "      <td>11</td>\n",
       "      <td>42000.0</td>\n",
       "      <td>Graduate</td>\n",
       "      <td>2.0</td>\n",
       "    </tr>\n",
       "    <tr>\n",
       "      <th>19</th>\n",
       "      <td>HR</td>\n",
       "      <td>0.0</td>\n",
       "      <td>2</td>\n",
       "      <td>22000.0</td>\n",
       "      <td>Under_Graduate</td>\n",
       "      <td>2.0</td>\n",
       "    </tr>\n",
       "    <tr>\n",
       "      <th>20</th>\n",
       "      <td>IT</td>\n",
       "      <td>52.0</td>\n",
       "      <td>35</td>\n",
       "      <td>60000.0</td>\n",
       "      <td>Master</td>\n",
       "      <td>3.0</td>\n",
       "    </tr>\n",
       "    <tr>\n",
       "      <th>21</th>\n",
       "      <td>Sales</td>\n",
       "      <td>27.0</td>\n",
       "      <td>2</td>\n",
       "      <td>23000.0</td>\n",
       "      <td>Under_Graduate</td>\n",
       "      <td>1.0</td>\n",
       "    </tr>\n",
       "    <tr>\n",
       "      <th>22</th>\n",
       "      <td>HR</td>\n",
       "      <td>42.0</td>\n",
       "      <td>12</td>\n",
       "      <td>45000.0</td>\n",
       "      <td>Graduate</td>\n",
       "      <td>2.0</td>\n",
       "    </tr>\n",
       "    <tr>\n",
       "      <th>23</th>\n",
       "      <td>HR</td>\n",
       "      <td>0.0</td>\n",
       "      <td>2</td>\n",
       "      <td>22000.0</td>\n",
       "      <td>Under_Graduate</td>\n",
       "      <td>1.0</td>\n",
       "    </tr>\n",
       "    <tr>\n",
       "      <th>24</th>\n",
       "      <td>IT</td>\n",
       "      <td>51.0</td>\n",
       "      <td>.</td>\n",
       "      <td>60000.0</td>\n",
       "      <td>Master</td>\n",
       "      <td>1.0</td>\n",
       "    </tr>\n",
       "    <tr>\n",
       "      <th>25</th>\n",
       "      <td>Sales</td>\n",
       "      <td>28.0</td>\n",
       "      <td>2</td>\n",
       "      <td>23000.0</td>\n",
       "      <td>a</td>\n",
       "      <td>1.0</td>\n",
       "    </tr>\n",
       "    <tr>\n",
       "      <th>26</th>\n",
       "      <td>Sales</td>\n",
       "      <td>29.0</td>\n",
       "      <td>%</td>\n",
       "      <td>26000.0</td>\n",
       "      <td>Under_Graduate</td>\n",
       "      <td>3.0</td>\n",
       "    </tr>\n",
       "    <tr>\n",
       "      <th>27</th>\n",
       "      <td>HR</td>\n",
       "      <td>42.0</td>\n",
       "      <td>a</td>\n",
       "      <td>45000.0</td>\n",
       "      <td>Graduate</td>\n",
       "      <td>NaN</td>\n",
       "    </tr>\n",
       "    <tr>\n",
       "      <th>28</th>\n",
       "      <td>Sales</td>\n",
       "      <td>70.0</td>\n",
       "      <td>45</td>\n",
       "      <td>90000.0</td>\n",
       "      <td>Master</td>\n",
       "      <td>NaN</td>\n",
       "    </tr>\n",
       "    <tr>\n",
       "      <th>29</th>\n",
       "      <td>HR</td>\n",
       "      <td>32.0</td>\n",
       "      <td>12</td>\n",
       "      <td>88000.0</td>\n",
       "      <td>Under_Graduate</td>\n",
       "      <td>1.0</td>\n",
       "    </tr>\n",
       "    <tr>\n",
       "      <th>30</th>\n",
       "      <td>IT</td>\n",
       "      <td>19.0</td>\n",
       "      <td>0</td>\n",
       "      <td>20000.0</td>\n",
       "      <td>Graduate</td>\n",
       "      <td>2.0</td>\n",
       "    </tr>\n",
       "    <tr>\n",
       "      <th>31</th>\n",
       "      <td>Marketing</td>\n",
       "      <td>75.0</td>\n",
       "      <td>50</td>\n",
       "      <td>39000.0</td>\n",
       "      <td>Master</td>\n",
       "      <td>1.0</td>\n",
       "    </tr>\n",
       "    <tr>\n",
       "      <th>32</th>\n",
       "      <td>HR</td>\n",
       "      <td>NaN</td>\n",
       "      <td>11</td>\n",
       "      <td>42000.0</td>\n",
       "      <td>?</td>\n",
       "      <td>2.0</td>\n",
       "    </tr>\n",
       "  </tbody>\n",
       "</table>\n",
       "</div>"
      ],
      "text/plain": [
       "         Dept   Age Experience   Salary       Education  Projects\n",
       "0          HR  32.0          9  40000.0  Under_Graduate       0.0\n",
       "1          HR  33.0         12  48000.0          Master       0.0\n",
       "2          IT  35.0         12  45000.0          Master       5.0\n",
       "3          IT   NaN         12  46000.0        Graduate       5.0\n",
       "4          HR  34.0         11      NaN        Graduate       2.0\n",
       "5          IT  33.0         13  42000.0             NaN       1.0\n",
       "6   Marketing  56.0         12  39000.0          Master       NaN\n",
       "7          HR   NaN         10  42000.0          Master       NaN\n",
       "8   Marketing  31.0        NaN  36000.0  Under_Graduate       2.0\n",
       "9          IT  45.0         14      NaN          Master       3.0\n",
       "10      Sales  50.0        NaN  46000.0          Master       3.0\n",
       "11        NaN  75.0         14  45500.0        Graduate       3.0\n",
       "12        NaN  29.0        8.5  38000.0             NaN       3.0\n",
       "13         HR  32.0         11  39000.0  Under_Graduate       NaN\n",
       "14      Sales  38.0        NaN  35000.0          Master       NaN\n",
       "15         HR   0.0        NaN  32000.0  Under_Graduate       3.0\n",
       "16         IT  42.0         14  42000.0        Graduate       3.0\n",
       "17  Marketing  50.0         13  39000.0          Master       3.0\n",
       "18         HR  38.0         11  42000.0        Graduate       2.0\n",
       "19         HR   0.0          2  22000.0  Under_Graduate       2.0\n",
       "20         IT  52.0         35  60000.0          Master       3.0\n",
       "21      Sales  27.0          2  23000.0  Under_Graduate       1.0\n",
       "22         HR  42.0         12  45000.0        Graduate       2.0\n",
       "23         HR   0.0          2  22000.0  Under_Graduate       1.0\n",
       "24         IT  51.0          .  60000.0          Master       1.0\n",
       "25      Sales  28.0          2  23000.0               a       1.0\n",
       "26      Sales  29.0          %  26000.0  Under_Graduate       3.0\n",
       "27         HR  42.0          a  45000.0        Graduate       NaN\n",
       "28      Sales  70.0         45  90000.0          Master       NaN\n",
       "29         HR  32.0         12  88000.0  Under_Graduate       1.0\n",
       "30         IT  19.0          0  20000.0        Graduate       2.0\n",
       "31  Marketing  75.0         50  39000.0          Master       1.0\n",
       "32         HR   NaN         11  42000.0               ?       2.0"
      ]
     },
     "execution_count": 255,
     "metadata": {},
     "output_type": "execute_result"
    }
   ],
   "source": [
    "df2"
   ]
  },
  {
   "cell_type": "code",
   "execution_count": null,
   "id": "a115f0bd",
   "metadata": {},
   "outputs": [],
   "source": []
  },
  {
   "cell_type": "code",
   "execution_count": null,
   "id": "4be65b7b",
   "metadata": {},
   "outputs": [],
   "source": [
    "# Forward filling means fill missing values with previous data. \n",
    "# Backward filling means fill missing values with next data point.\n",
    "\n",
    "# It is suitable for scenarios where the data has a natural ordering, such as time-series data or sorted data.\n",
    "\n",
    "# syntax - df.ffill(axis=0 rows /1 column)\n",
    "# syntax - df.backfill(axis=0 rows /1 column)"
   ]
  },
  {
   "cell_type": "code",
   "execution_count": 256,
   "id": "a5fb2d31",
   "metadata": {},
   "outputs": [
    {
     "data": {
      "text/html": [
       "<div>\n",
       "<style scoped>\n",
       "    .dataframe tbody tr th:only-of-type {\n",
       "        vertical-align: middle;\n",
       "    }\n",
       "\n",
       "    .dataframe tbody tr th {\n",
       "        vertical-align: top;\n",
       "    }\n",
       "\n",
       "    .dataframe thead th {\n",
       "        text-align: right;\n",
       "    }\n",
       "</style>\n",
       "<table border=\"1\" class=\"dataframe\">\n",
       "  <thead>\n",
       "    <tr style=\"text-align: right;\">\n",
       "      <th></th>\n",
       "      <th>Dept</th>\n",
       "      <th>Age</th>\n",
       "      <th>Experience</th>\n",
       "      <th>Salary</th>\n",
       "      <th>Education</th>\n",
       "      <th>Projects</th>\n",
       "    </tr>\n",
       "  </thead>\n",
       "  <tbody>\n",
       "    <tr>\n",
       "      <th>0</th>\n",
       "      <td>HR</td>\n",
       "      <td>32.0</td>\n",
       "      <td>9</td>\n",
       "      <td>40000.0</td>\n",
       "      <td>Under_Graduate</td>\n",
       "      <td>0.0</td>\n",
       "    </tr>\n",
       "    <tr>\n",
       "      <th>1</th>\n",
       "      <td>HR</td>\n",
       "      <td>33.0</td>\n",
       "      <td>12</td>\n",
       "      <td>48000.0</td>\n",
       "      <td>Master</td>\n",
       "      <td>0.0</td>\n",
       "    </tr>\n",
       "    <tr>\n",
       "      <th>2</th>\n",
       "      <td>IT</td>\n",
       "      <td>35.0</td>\n",
       "      <td>12</td>\n",
       "      <td>45000.0</td>\n",
       "      <td>Master</td>\n",
       "      <td>5.0</td>\n",
       "    </tr>\n",
       "    <tr>\n",
       "      <th>3</th>\n",
       "      <td>IT</td>\n",
       "      <td>NaN</td>\n",
       "      <td>12</td>\n",
       "      <td>46000.0</td>\n",
       "      <td>Graduate</td>\n",
       "      <td>5.0</td>\n",
       "    </tr>\n",
       "    <tr>\n",
       "      <th>4</th>\n",
       "      <td>HR</td>\n",
       "      <td>34.0</td>\n",
       "      <td>11</td>\n",
       "      <td>42000.0</td>\n",
       "      <td>Graduate</td>\n",
       "      <td>2.0</td>\n",
       "    </tr>\n",
       "    <tr>\n",
       "      <th>5</th>\n",
       "      <td>IT</td>\n",
       "      <td>33.0</td>\n",
       "      <td>13</td>\n",
       "      <td>42000.0</td>\n",
       "      <td>NaN</td>\n",
       "      <td>1.0</td>\n",
       "    </tr>\n",
       "    <tr>\n",
       "      <th>6</th>\n",
       "      <td>Marketing</td>\n",
       "      <td>56.0</td>\n",
       "      <td>12</td>\n",
       "      <td>39000.0</td>\n",
       "      <td>Master</td>\n",
       "      <td>NaN</td>\n",
       "    </tr>\n",
       "    <tr>\n",
       "      <th>7</th>\n",
       "      <td>HR</td>\n",
       "      <td>NaN</td>\n",
       "      <td>10</td>\n",
       "      <td>42000.0</td>\n",
       "      <td>Master</td>\n",
       "      <td>NaN</td>\n",
       "    </tr>\n",
       "    <tr>\n",
       "      <th>8</th>\n",
       "      <td>Marketing</td>\n",
       "      <td>31.0</td>\n",
       "      <td>NaN</td>\n",
       "      <td>36000.0</td>\n",
       "      <td>Under_Graduate</td>\n",
       "      <td>2.0</td>\n",
       "    </tr>\n",
       "    <tr>\n",
       "      <th>9</th>\n",
       "      <td>IT</td>\n",
       "      <td>45.0</td>\n",
       "      <td>14</td>\n",
       "      <td>46000.0</td>\n",
       "      <td>Master</td>\n",
       "      <td>3.0</td>\n",
       "    </tr>\n",
       "    <tr>\n",
       "      <th>10</th>\n",
       "      <td>Sales</td>\n",
       "      <td>50.0</td>\n",
       "      <td>NaN</td>\n",
       "      <td>46000.0</td>\n",
       "      <td>Master</td>\n",
       "      <td>3.0</td>\n",
       "    </tr>\n",
       "    <tr>\n",
       "      <th>11</th>\n",
       "      <td>NaN</td>\n",
       "      <td>75.0</td>\n",
       "      <td>14</td>\n",
       "      <td>45500.0</td>\n",
       "      <td>Graduate</td>\n",
       "      <td>3.0</td>\n",
       "    </tr>\n",
       "    <tr>\n",
       "      <th>12</th>\n",
       "      <td>NaN</td>\n",
       "      <td>29.0</td>\n",
       "      <td>8.5</td>\n",
       "      <td>38000.0</td>\n",
       "      <td>NaN</td>\n",
       "      <td>3.0</td>\n",
       "    </tr>\n",
       "    <tr>\n",
       "      <th>13</th>\n",
       "      <td>HR</td>\n",
       "      <td>32.0</td>\n",
       "      <td>11</td>\n",
       "      <td>39000.0</td>\n",
       "      <td>Under_Graduate</td>\n",
       "      <td>NaN</td>\n",
       "    </tr>\n",
       "    <tr>\n",
       "      <th>14</th>\n",
       "      <td>Sales</td>\n",
       "      <td>38.0</td>\n",
       "      <td>NaN</td>\n",
       "      <td>35000.0</td>\n",
       "      <td>Master</td>\n",
       "      <td>NaN</td>\n",
       "    </tr>\n",
       "    <tr>\n",
       "      <th>15</th>\n",
       "      <td>HR</td>\n",
       "      <td>0.0</td>\n",
       "      <td>NaN</td>\n",
       "      <td>32000.0</td>\n",
       "      <td>Under_Graduate</td>\n",
       "      <td>3.0</td>\n",
       "    </tr>\n",
       "    <tr>\n",
       "      <th>16</th>\n",
       "      <td>IT</td>\n",
       "      <td>42.0</td>\n",
       "      <td>14</td>\n",
       "      <td>42000.0</td>\n",
       "      <td>Graduate</td>\n",
       "      <td>3.0</td>\n",
       "    </tr>\n",
       "    <tr>\n",
       "      <th>17</th>\n",
       "      <td>Marketing</td>\n",
       "      <td>50.0</td>\n",
       "      <td>13</td>\n",
       "      <td>39000.0</td>\n",
       "      <td>Master</td>\n",
       "      <td>3.0</td>\n",
       "    </tr>\n",
       "    <tr>\n",
       "      <th>18</th>\n",
       "      <td>HR</td>\n",
       "      <td>38.0</td>\n",
       "      <td>11</td>\n",
       "      <td>42000.0</td>\n",
       "      <td>Graduate</td>\n",
       "      <td>2.0</td>\n",
       "    </tr>\n",
       "    <tr>\n",
       "      <th>19</th>\n",
       "      <td>HR</td>\n",
       "      <td>0.0</td>\n",
       "      <td>2</td>\n",
       "      <td>22000.0</td>\n",
       "      <td>Under_Graduate</td>\n",
       "      <td>2.0</td>\n",
       "    </tr>\n",
       "    <tr>\n",
       "      <th>20</th>\n",
       "      <td>IT</td>\n",
       "      <td>52.0</td>\n",
       "      <td>35</td>\n",
       "      <td>60000.0</td>\n",
       "      <td>Master</td>\n",
       "      <td>3.0</td>\n",
       "    </tr>\n",
       "    <tr>\n",
       "      <th>21</th>\n",
       "      <td>Sales</td>\n",
       "      <td>27.0</td>\n",
       "      <td>2</td>\n",
       "      <td>23000.0</td>\n",
       "      <td>Under_Graduate</td>\n",
       "      <td>1.0</td>\n",
       "    </tr>\n",
       "    <tr>\n",
       "      <th>22</th>\n",
       "      <td>HR</td>\n",
       "      <td>42.0</td>\n",
       "      <td>12</td>\n",
       "      <td>45000.0</td>\n",
       "      <td>Graduate</td>\n",
       "      <td>2.0</td>\n",
       "    </tr>\n",
       "    <tr>\n",
       "      <th>23</th>\n",
       "      <td>HR</td>\n",
       "      <td>0.0</td>\n",
       "      <td>2</td>\n",
       "      <td>22000.0</td>\n",
       "      <td>Under_Graduate</td>\n",
       "      <td>1.0</td>\n",
       "    </tr>\n",
       "    <tr>\n",
       "      <th>24</th>\n",
       "      <td>IT</td>\n",
       "      <td>51.0</td>\n",
       "      <td>.</td>\n",
       "      <td>60000.0</td>\n",
       "      <td>Master</td>\n",
       "      <td>1.0</td>\n",
       "    </tr>\n",
       "    <tr>\n",
       "      <th>25</th>\n",
       "      <td>Sales</td>\n",
       "      <td>28.0</td>\n",
       "      <td>2</td>\n",
       "      <td>23000.0</td>\n",
       "      <td>a</td>\n",
       "      <td>1.0</td>\n",
       "    </tr>\n",
       "    <tr>\n",
       "      <th>26</th>\n",
       "      <td>Sales</td>\n",
       "      <td>29.0</td>\n",
       "      <td>%</td>\n",
       "      <td>26000.0</td>\n",
       "      <td>Under_Graduate</td>\n",
       "      <td>3.0</td>\n",
       "    </tr>\n",
       "    <tr>\n",
       "      <th>27</th>\n",
       "      <td>HR</td>\n",
       "      <td>42.0</td>\n",
       "      <td>a</td>\n",
       "      <td>45000.0</td>\n",
       "      <td>Graduate</td>\n",
       "      <td>NaN</td>\n",
       "    </tr>\n",
       "    <tr>\n",
       "      <th>28</th>\n",
       "      <td>Sales</td>\n",
       "      <td>70.0</td>\n",
       "      <td>45</td>\n",
       "      <td>90000.0</td>\n",
       "      <td>Master</td>\n",
       "      <td>NaN</td>\n",
       "    </tr>\n",
       "    <tr>\n",
       "      <th>29</th>\n",
       "      <td>HR</td>\n",
       "      <td>32.0</td>\n",
       "      <td>12</td>\n",
       "      <td>88000.0</td>\n",
       "      <td>Under_Graduate</td>\n",
       "      <td>1.0</td>\n",
       "    </tr>\n",
       "    <tr>\n",
       "      <th>30</th>\n",
       "      <td>IT</td>\n",
       "      <td>19.0</td>\n",
       "      <td>0</td>\n",
       "      <td>20000.0</td>\n",
       "      <td>Graduate</td>\n",
       "      <td>2.0</td>\n",
       "    </tr>\n",
       "    <tr>\n",
       "      <th>31</th>\n",
       "      <td>Marketing</td>\n",
       "      <td>75.0</td>\n",
       "      <td>50</td>\n",
       "      <td>39000.0</td>\n",
       "      <td>Master</td>\n",
       "      <td>1.0</td>\n",
       "    </tr>\n",
       "    <tr>\n",
       "      <th>32</th>\n",
       "      <td>HR</td>\n",
       "      <td>NaN</td>\n",
       "      <td>11</td>\n",
       "      <td>42000.0</td>\n",
       "      <td>?</td>\n",
       "      <td>2.0</td>\n",
       "    </tr>\n",
       "  </tbody>\n",
       "</table>\n",
       "</div>"
      ],
      "text/plain": [
       "         Dept   Age Experience   Salary       Education  Projects\n",
       "0          HR  32.0          9  40000.0  Under_Graduate       0.0\n",
       "1          HR  33.0         12  48000.0          Master       0.0\n",
       "2          IT  35.0         12  45000.0          Master       5.0\n",
       "3          IT   NaN         12  46000.0        Graduate       5.0\n",
       "4          HR  34.0         11  42000.0        Graduate       2.0\n",
       "5          IT  33.0         13  42000.0             NaN       1.0\n",
       "6   Marketing  56.0         12  39000.0          Master       NaN\n",
       "7          HR   NaN         10  42000.0          Master       NaN\n",
       "8   Marketing  31.0        NaN  36000.0  Under_Graduate       2.0\n",
       "9          IT  45.0         14  46000.0          Master       3.0\n",
       "10      Sales  50.0        NaN  46000.0          Master       3.0\n",
       "11        NaN  75.0         14  45500.0        Graduate       3.0\n",
       "12        NaN  29.0        8.5  38000.0             NaN       3.0\n",
       "13         HR  32.0         11  39000.0  Under_Graduate       NaN\n",
       "14      Sales  38.0        NaN  35000.0          Master       NaN\n",
       "15         HR   0.0        NaN  32000.0  Under_Graduate       3.0\n",
       "16         IT  42.0         14  42000.0        Graduate       3.0\n",
       "17  Marketing  50.0         13  39000.0          Master       3.0\n",
       "18         HR  38.0         11  42000.0        Graduate       2.0\n",
       "19         HR   0.0          2  22000.0  Under_Graduate       2.0\n",
       "20         IT  52.0         35  60000.0          Master       3.0\n",
       "21      Sales  27.0          2  23000.0  Under_Graduate       1.0\n",
       "22         HR  42.0         12  45000.0        Graduate       2.0\n",
       "23         HR   0.0          2  22000.0  Under_Graduate       1.0\n",
       "24         IT  51.0          .  60000.0          Master       1.0\n",
       "25      Sales  28.0          2  23000.0               a       1.0\n",
       "26      Sales  29.0          %  26000.0  Under_Graduate       3.0\n",
       "27         HR  42.0          a  45000.0        Graduate       NaN\n",
       "28      Sales  70.0         45  90000.0          Master       NaN\n",
       "29         HR  32.0         12  88000.0  Under_Graduate       1.0\n",
       "30         IT  19.0          0  20000.0        Graduate       2.0\n",
       "31  Marketing  75.0         50  39000.0          Master       1.0\n",
       "32         HR   NaN         11  42000.0               ?       2.0"
      ]
     },
     "execution_count": 256,
     "metadata": {},
     "output_type": "execute_result"
    }
   ],
   "source": [
    "df3 = df.copy()\n",
    "df3\n",
    "# Forward fill missing values in df3 based on NaN values in df2[\"Salary\"]\n",
    "df3[\"Salary\"].bfill(axis=0,inplace=True)\n",
    "df3"
   ]
  },
  {
   "cell_type": "markdown",
   "id": "0c5da18c",
   "metadata": {},
   "source": [
    "#### What is an outlier?\n",
    "\n",
    "An outlier is an observation that lies an abnormal distance from other values in a random sample from a population. In a sense, this definition leaves it up to the analyst to decide what will be considered abnormal.\n",
    "\n",
    "Eg: A fasting blood sugar level less than 100 mg/dL is normal. \n",
    "\n",
    "Common Causes of Outliers\n",
    "1. Data entry errors (human errors)\n",
    "2. Measurement errors (instrument errors)\n",
    "3. Intentional (dummy outliers made to test detection methods)\n",
    "4. Data processing errors (data manipulation or data set unintended mutations)\n",
    "5. Sampling errors (extracting or mixing data from wrong or various\n",
    "sources)\n"
   ]
  },
  {
   "cell_type": "markdown",
   "id": "de8059f7",
   "metadata": {},
   "source": [
    "#### Outlier Detection\n",
    "1. Sort the data and see for the extreme values\n",
    "2. Plotting – Boxplot\n",
    "3. IQR Method\n",
    "4. Z-Score Method\n"
   ]
  },
  {
   "cell_type": "code",
   "execution_count": 151,
   "id": "4db1e837",
   "metadata": {},
   "outputs": [
    {
     "data": {
      "text/plain": [
       "30    20000.0\n",
       "23    22000.0\n",
       "19    22000.0\n",
       "25    23000.0\n",
       "21    23000.0\n",
       "26    26000.0\n",
       "15    32000.0\n",
       "14    35000.0\n",
       "8     36000.0\n",
       "12    38000.0\n",
       "17    39000.0\n",
       "6     39000.0\n",
       "31    39000.0\n",
       "13    39000.0\n",
       "0     40000.0\n",
       "18    42000.0\n",
       "7     42000.0\n",
       "5     42000.0\n",
       "16    42000.0\n",
       "32    42000.0\n",
       "22    45000.0\n",
       "2     45000.0\n",
       "27    45000.0\n",
       "11    45500.0\n",
       "10    46000.0\n",
       "3     46000.0\n",
       "1     48000.0\n",
       "20    60000.0\n",
       "24    60000.0\n",
       "29    88000.0\n",
       "28    90000.0\n",
       "4         NaN\n",
       "9         NaN\n",
       "Name: Salary, dtype: float64"
      ]
     },
     "execution_count": 151,
     "metadata": {},
     "output_type": "execute_result"
    }
   ],
   "source": [
    "# Sort the data and see for the extreme values\n",
    "\n",
    "df['Salary'].sort_values()"
   ]
  },
  {
   "cell_type": "code",
   "execution_count": 152,
   "id": "25d0fd3d",
   "metadata": {},
   "outputs": [],
   "source": [
    "salary = df['Salary'].dropna()"
   ]
  },
  {
   "cell_type": "code",
   "execution_count": 263,
   "id": "c29fb05e",
   "metadata": {},
   "outputs": [
    {
     "data": {
      "image/png": "[encoded data removed]",
      "text/plain": [
       "<Figure size 300x300 with 1 Axes>"
      ]
     },
     "metadata": {},
     "output_type": "display_data"
    }
   ],
   "source": [
    "# Plotting – Boxplot\n",
    "\n",
    "plt.figure(figsize=(3, 3))\n",
    "sns.boxplot(data=df['Age'])\n",
    "plt.title('Boxplot of Data')\n",
    "plt.show()"
   ]
  },
  {
   "cell_type": "markdown",
   "id": "d757aab6",
   "metadata": {},
   "source": [
    "#### IQR \n",
    "- Any value that satisfies these conditions are called outliers\n",
    "    - If data point < Q1 - 1.5(IQR) (LL)\n",
    "    - If data point > Q3 + 1.5(IQR) (UL)\n",
    "  |"
   ]
  },
  {
   "cell_type": "code",
   "execution_count": 31,
   "id": "fae1e8cc",
   "metadata": {},
   "outputs": [
    {
     "data": {
      "text/plain": [
       "[0, 2, 4, 6, 8]"
      ]
     },
     "execution_count": 31,
     "metadata": {},
     "output_type": "execute_result"
    }
   ],
   "source": [
    "a = [i for i in range(10) if i%2==0]\n",
    "a"
   ]
  },
  {
   "cell_type": "code",
   "execution_count": 259,
   "id": "8b7809f1",
   "metadata": {},
   "outputs": [
    {
     "name": "stdout",
     "output_type": "stream",
     "text": [
      "59875.0 20875.0\n",
      "Outliers:  [60000.0, 60000.0, 90000.0, 88000.0, 20000.0]\n"
     ]
    }
   ],
   "source": [
    "#IQR method of finding outliers - more sensitive to outliers\n",
    "\n",
    "import numpy as np\n",
    "from scipy import stats as st\n",
    "\n",
    "# syntax = [inter for inter in data]\n",
    "\n",
    "def IQR_outliers(temp_data):\n",
    "    return [i for i in temp_data if i < lower_limit or i > upper_limit]\n",
    "\n",
    "salary = df['Salary'].dropna()\n",
    "\n",
    "Q1,Q3= np.quantile(salary,[0.25,0.75])\n",
    "IQR = Q3-Q1\n",
    "\n",
    "lower_limit = Q1 - 1.5*IQR\n",
    "upper_limit = Q3 + 1.5*IQR\n",
    "print(upper_limit,lower_limit)\n",
    "print('Outliers: ',IQR_outliers(salary))"
   ]
  },
  {
   "cell_type": "markdown",
   "id": "feb8040c",
   "metadata": {},
   "source": [
    "#### Z-score\n",
    "\n",
    "- Also known as standard normal distribution score\n",
    "- We are checking how many standard deviations away from the data point is the mean\n",
    "- Z = x-mean/std\n",
    "- if Z > +3 or Z < -3 the data point that produces this z-score is an outlier"
   ]
  },
  {
   "cell_type": "code",
   "execution_count": 260,
   "id": "5387ebca",
   "metadata": {},
   "outputs": [
    {
     "name": "stdout",
     "output_type": "stream",
     "text": [
      "Outliers:  [90000.0]\n"
     ]
    }
   ],
   "source": [
    "import numpy as np\n",
    "\n",
    "def outliers_of_data(data):\n",
    "    outliers = []\n",
    "    mean_of_data = np.mean(data)\n",
    "    std_of_data = np.std(data)\n",
    "    for i in data:\n",
    "        z_score = (i - mean_of_data) / std_of_data\n",
    "        if np.abs(z_score) > 3:\n",
    "            outliers.append(i)\n",
    "    return outliers\n",
    "\n",
    "# Example usage with DataFrame 'df' and column 'Salary'\n",
    "salary = df['Salary'].dropna()\n",
    "print('Outliers: ', outliers_of_data(salary))\n"
   ]
  },
  {
   "cell_type": "code",
   "execution_count": 270,
   "id": "4746bd61",
   "metadata": {},
   "outputs": [
    {
     "data": {
      "text/plain": [
       "0     40000.0\n",
       "1     48000.0\n",
       "2     45000.0\n",
       "3     46000.0\n",
       "5     42000.0\n",
       "6     39000.0\n",
       "7     42000.0\n",
       "8     36000.0\n",
       "10    46000.0\n",
       "11    45500.0\n",
       "12    38000.0\n",
       "13    39000.0\n",
       "14    35000.0\n",
       "15    32000.0\n",
       "16    42000.0\n",
       "17    39000.0\n",
       "18    42000.0\n",
       "19    22000.0\n",
       "21    23000.0\n",
       "22    45000.0\n",
       "23    22000.0\n",
       "25    23000.0\n",
       "26    26000.0\n",
       "27    45000.0\n",
       "31    39000.0\n",
       "32    42000.0\n",
       "Name: Salary, dtype: float64"
      ]
     },
     "execution_count": 270,
     "metadata": {},
     "output_type": "execute_result"
    }
   ],
   "source": [
    "#Trimming\n",
    "\n",
    "def trim_outliers(data,):\n",
    "    lower_limit = Q1 - 1.5*IQR\n",
    "    upper_limit = Q3 + 1.5*IQR\n",
    "    trimmed_data = data[(data >= lower_limit) & (data <= upper_limit)]\n",
    "    return trimmed_data\n",
    "\n",
    "Q1,Q3= np.quantile(salary,[0.25,0.75])\n",
    "IQR = Q3-Q1\n",
    "\n",
    "# Example usage\n",
    "trimmed_salary = trim_outliers(df['Salary'])\n",
    "trimmed_salary"
   ]
  },
  {
   "cell_type": "code",
   "execution_count": 171,
   "id": "bf157fd2",
   "metadata": {},
   "outputs": [
    {
     "data": {
      "text/plain": [
       "21750.0"
      ]
     },
     "execution_count": 171,
     "metadata": {},
     "output_type": "execute_result"
    }
   ],
   "source": [
    "lower_limit"
   ]
  },
  {
   "cell_type": "code",
   "execution_count": 172,
   "id": "189e3b7c",
   "metadata": {
    "scrolled": true
   },
   "outputs": [
    {
     "data": {
      "text/plain": [
       "57750.0"
      ]
     },
     "execution_count": 172,
     "metadata": {},
     "output_type": "execute_result"
    }
   ],
   "source": [
    "upper_limit"
   ]
  },
  {
   "cell_type": "code",
   "execution_count": 168,
   "id": "229ea9ef",
   "metadata": {},
   "outputs": [
    {
     "data": {
      "image/png": "[encoded data removed]",
      "text/plain": [
       "<Figure size 300x300 with 1 Axes>"
      ]
     },
     "metadata": {},
     "output_type": "display_data"
    }
   ],
   "source": [
    "# Plotting – Boxplot\n",
    "\n",
    "plt.figure(figsize=(3, 3))\n",
    "sns.boxplot(data=capped_salary)\n",
    "plt.title('Boxplot of Data')\n",
    "plt.show()"
   ]
  },
  {
   "cell_type": "code",
   "execution_count": null,
   "id": "e68c49df",
   "metadata": {},
   "outputs": [],
   "source": [
    "np.where(cond,true,false)"
   ]
  },
  {
   "cell_type": "code",
   "execution_count": 182,
   "id": "0e28b394",
   "metadata": {},
   "outputs": [
    {
     "data": {
      "text/plain": [
       "array([40000., 48000., 45000., 46000.,    nan, 42000., 39000., 42000.,\n",
       "       36000.,    nan, 46000., 45500., 38000., 39000., 35000., 32000.,\n",
       "       42000., 39000., 42000., 22500., 57750., 23000., 45000., 22500.,\n",
       "       57750., 23000., 26000., 45000., 57750., 57750., 22500., 39000.,\n",
       "       42000.])"
      ]
     },
     "execution_count": 182,
     "metadata": {},
     "output_type": "execute_result"
    }
   ],
   "source": [
    "# Capping\n",
    "\n",
    "np.where(\n",
    "    df[\"Salary\"] > 57750.0,   # Condition: If Salary > 57750.0\n",
    "    57750.0,                  # Replace with 57750.0\n",
    "    np.where(\n",
    "        df[\"Salary\"] < 21750.0,  # If Salary < 21750.0\n",
    "        21750.0,                   # Replace with 21750.0\n",
    "        df[\"Salary\"]               # Otherwise, keep the original value\n",
    "    )\n",
    ")"
   ]
  },
  {
   "cell_type": "code",
   "execution_count": 183,
   "id": "27ca3584",
   "metadata": {},
   "outputs": [
    {
     "data": {
      "image/png": "[encoded data removed]",
      "text/plain": [
       "<Figure size 300x300 with 1 Axes>"
      ]
     },
     "metadata": {},
     "output_type": "display_data"
    }
   ],
   "source": [
    "# Plotting – Boxplot\n",
    "\n",
    "plt.figure(figsize=(3, 3))\n",
    "sns.boxplot(data=df[\"Salary\"])\n",
    "plt.title('Boxplot of Data')\n",
    "plt.show()"
   ]
  },
  {
   "cell_type": "code",
   "execution_count": null,
   "id": "61e1fe22",
   "metadata": {},
   "outputs": [],
   "source": []
  }
 ],
 "metadata": {
  "kernelspec": {
   "display_name": "Python 3 (ipykernel)",
   "language": "python",
   "name": "python3"
  },
  "language_info": {
   "codemirror_mode": {
    "name": "ipython",
    "version": 3
   },
   "file_extension": ".py",
   "mimetype": "text/x-python",
   "name": "python",
   "nbconvert_exporter": "python",
   "pygments_lexer": "ipython3",
   "version": "3.10.9"
  }
 },
 "nbformat": 4,
 "nbformat_minor": 5
}
