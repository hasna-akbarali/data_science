{
 "cells": [
  {
   "cell_type": "markdown",
   "id": "6902955a",
   "metadata": {},
   "source": [
    "#### Splitting across columns"
   ]
  },
  {
   "cell_type": "code",
   "execution_count": 1,
   "id": "8768da16",
   "metadata": {},
   "outputs": [],
   "source": [
    "import numpy as np"
   ]
  },
  {
   "cell_type": "code",
   "execution_count": 2,
   "id": "03db4f54",
   "metadata": {},
   "outputs": [
    {
     "data": {
      "text/plain": [
       "array([[ 0,  1,  2,  3],\n",
       "       [ 4,  5,  6,  7],\n",
       "       [ 8,  9, 10, 11],\n",
       "       [12, 13, 14, 15],\n",
       "       [16, 17, 18, 19],\n",
       "       [20, 21, 22, 23]])"
      ]
     },
     "execution_count": 2,
     "metadata": {},
     "output_type": "execute_result"
    }
   ],
   "source": [
    "# syntax - np.split(data_variable_name,int/list,axis=0/1) 0 -> rows 1-> col\n",
    "data_2d = np.arange(24).reshape(6, 4)\n",
    "data_2d"
   ]
  },
  {
   "cell_type": "code",
   "execution_count": 3,
   "id": "1c773ccd",
   "metadata": {},
   "outputs": [
    {
     "data": {
      "text/plain": [
       "[array([[ 0,  1],\n",
       "        [ 4,  5],\n",
       "        [ 8,  9],\n",
       "        [12, 13],\n",
       "        [16, 17],\n",
       "        [20, 21]]),\n",
       " array([[ 2,  3],\n",
       "        [ 6,  7],\n",
       "        [10, 11],\n",
       "        [14, 15],\n",
       "        [18, 19],\n",
       "        [22, 23]])]"
      ]
     },
     "execution_count": 3,
     "metadata": {},
     "output_type": "execute_result"
    }
   ],
   "source": [
    "# Split into 3 equal parts along columns\n",
    "np.split(data_2d, 2, axis=1)\n"
   ]
  },
  {
   "cell_type": "code",
   "execution_count": 24,
   "id": "94e5d205",
   "metadata": {},
   "outputs": [
    {
     "data": {
      "text/plain": [
       "array([[ 0,  1,  2,  3],\n",
       "       [ 4,  5,  6,  7],\n",
       "       [ 8,  9, 10, 11],\n",
       "       [12, 13, 14, 15],\n",
       "       [16, 17, 18, 19],\n",
       "       [20, 21, 22, 23]])"
      ]
     },
     "execution_count": 24,
     "metadata": {},
     "output_type": "execute_result"
    }
   ],
   "source": [
    "data_2d"
   ]
  },
  {
   "cell_type": "code",
   "execution_count": 23,
   "id": "3ce72fb2",
   "metadata": {},
   "outputs": [
    {
     "data": {
      "text/plain": [
       "[array([[0, 1, 2, 3]]),\n",
       " array([[ 4,  5,  6,  7],\n",
       "        [ 8,  9, 10, 11]]),\n",
       " array([[12, 13, 14, 15],\n",
       "        [16, 17, 18, 19],\n",
       "        [20, 21, 22, 23]])]"
      ]
     },
     "execution_count": 23,
     "metadata": {},
     "output_type": "execute_result"
    }
   ],
   "source": [
    "# data_2d rows - axis 0 \n",
    "\n",
    "# [1,3]\n",
    "np.split(data_2d, [1,3], axis=0)"
   ]
  },
  {
   "cell_type": "code",
   "execution_count": 5,
   "id": "510f7214",
   "metadata": {},
   "outputs": [
    {
     "data": {
      "text/plain": [
       "[array([[ 0],\n",
       "        [ 4],\n",
       "        [ 8],\n",
       "        [12],\n",
       "        [16],\n",
       "        [20]]),\n",
       " array([[ 1,  2],\n",
       "        [ 5,  6],\n",
       "        [ 9, 10],\n",
       "        [13, 14],\n",
       "        [17, 18],\n",
       "        [21, 22]]),\n",
       " array([[ 3],\n",
       "        [ 7],\n",
       "        [11],\n",
       "        [15],\n",
       "        [19],\n",
       "        [23]])]"
      ]
     },
     "execution_count": 5,
     "metadata": {},
     "output_type": "execute_result"
    }
   ],
   "source": [
    "# Split at specific indices along columns\n",
    "np.split(data_2d, [1, 3], axis=1)"
   ]
  },
  {
   "cell_type": "markdown",
   "id": "88b54591",
   "metadata": {},
   "source": [
    "#### NumPy Concatenation\n",
    "#### Syntax : numpy.concatenate((arr1, arr2, …), axis=0)\n",
    "- axis - 1 ---> column wise\n",
    "- axis - 0 ---> row wise\n"
   ]
  },
  {
   "cell_type": "code",
   "execution_count": 6,
   "id": "a7b13c3a",
   "metadata": {},
   "outputs": [
    {
     "data": {
      "text/plain": [
       "array([['Apples', 'Banana'],\n",
       "       ['Apricot', 'Blackberry']], dtype='<U10')"
      ]
     },
     "execution_count": 6,
     "metadata": {},
     "output_type": "execute_result"
    }
   ],
   "source": [
    "a = np.array([[\"Apples\", \"Banana\"], [\"Apricot\", \"Blackberry\"]])\n",
    "b = np.array([[\"Guava\", \"Blueberry\"], [\"Cherry\", \"Grapes\"]])\n",
    "a\n"
   ]
  },
  {
   "cell_type": "code",
   "execution_count": 7,
   "id": "97c4d0e2",
   "metadata": {},
   "outputs": [
    {
     "data": {
      "text/plain": [
       "array([['Guava', 'Blueberry'],\n",
       "       ['Cherry', 'Grapes']], dtype='<U9')"
      ]
     },
     "execution_count": 7,
     "metadata": {},
     "output_type": "execute_result"
    }
   ],
   "source": [
    "b"
   ]
  },
  {
   "cell_type": "code",
   "execution_count": 8,
   "id": "02b0c0a2",
   "metadata": {},
   "outputs": [
    {
     "data": {
      "text/plain": [
       "array([['Apples', 'Banana'],\n",
       "       ['Apricot', 'Blackberry'],\n",
       "       ['Guava', 'Blueberry'],\n",
       "       ['Cherry', 'Grapes']], dtype='<U10')"
      ]
     },
     "execution_count": 8,
     "metadata": {},
     "output_type": "execute_result"
    }
   ],
   "source": [
    "# Concatenate along rows\n",
    "np.concatenate((a, b), axis=0)"
   ]
  },
  {
   "cell_type": "code",
   "execution_count": 9,
   "id": "81a11a3c",
   "metadata": {},
   "outputs": [],
   "source": [
    "# When concatenating along columns, ensure the number of rows is equal\n",
    "a = np.array([[\"Apples\", \"Banana\",\"Lychee\"], [\"Apricot\", \"Blackberry\",\"Kiwi\"]])\n",
    "b = np.array([[\"Guava\", \"Blueberry\"], [\"Cherry\", \"Grapes\"]])\n"
   ]
  },
  {
   "cell_type": "code",
   "execution_count": 17,
   "id": "278d18bf",
   "metadata": {},
   "outputs": [
    {
     "data": {
      "text/plain": [
       "array([['Apples', 'Banana'],\n",
       "       ['Apricot', 'Blackberry'],\n",
       "       ['Papaya', 'Pineapple'],\n",
       "       ['Banana', 'Strawberry'],\n",
       "       ['Guava', 'Blueberry'],\n",
       "       ['Cherry', 'Grapes']], dtype='<U10')"
      ]
     },
     "execution_count": 17,
     "metadata": {},
     "output_type": "execute_result"
    }
   ],
   "source": [
    "# When concatenating along rows, ensure the number of columns is equal\n",
    "a = np.array([[\"Apples\", \"Banana\"], \n",
    "              [\"Apricot\", \"Blackberry\"],\n",
    "              ['Papaya','Pineapple'],\n",
    "              ['Banana','Strawberry']])\n",
    "b = np.array([[\"Guava\", \"Blueberry\"], \n",
    "              [\"Cherry\", \"Grapes\"]])\n",
    "\n",
    "# Concatenate along rows\n",
    "np.concatenate((a, b), axis=0)"
   ]
  },
  {
   "cell_type": "code",
   "execution_count": 16,
   "id": "02c00a34",
   "metadata": {},
   "outputs": [
    {
     "data": {
      "text/plain": [
       "array([['Apples', 'Banana', 'Lychee', 'Guava', 'Blueberry'],\n",
       "       ['Apricot', 'Blackberry', 'Kiwi', 'Cherry', 'Grapes']],\n",
       "      dtype='<U10')"
      ]
     },
     "execution_count": 16,
     "metadata": {},
     "output_type": "execute_result"
    }
   ],
   "source": [
    "# When concatenating along columns, ensure the number of rows is equal\n",
    "a = np.array([[\"Apples\", \"Banana\",\"Lychee\"], \n",
    "              [\"Apricot\", \"Blackberry\",\"Kiwi\"],])\n",
    "b = np.array([[\"Guava\", \"Blueberry\"], \n",
    "              [\"Cherry\", \"Grapes\"]])\n",
    "np.concatenate((a,b),axis=1)"
   ]
  },
  {
   "cell_type": "code",
   "execution_count": null,
   "id": "08a78ff7",
   "metadata": {},
   "outputs": [],
   "source": [
    "b"
   ]
  },
  {
   "cell_type": "code",
   "execution_count": 19,
   "id": "df3a2676",
   "metadata": {},
   "outputs": [
    {
     "data": {
      "text/plain": [
       "array([['Apples', 'Banana'],\n",
       "       ['Apricot', 'Blackberry'],\n",
       "       ['Papaya', 'Pineapple'],\n",
       "       ['Banana', 'Strawberry'],\n",
       "       ['Guava', 'Blueberry'],\n",
       "       ['Cherry', 'Grapes']], dtype='<U10')"
      ]
     },
     "execution_count": 19,
     "metadata": {},
     "output_type": "execute_result"
    }
   ],
   "source": [
    "# Concatenate along rows\n",
    "np.concatenate((a, b), axis=0)"
   ]
  },
  {
   "cell_type": "markdown",
   "id": "9dd85684",
   "metadata": {},
   "source": [
    "### Pandas"
   ]
  },
  {
   "cell_type": "markdown",
   "id": "14478651",
   "metadata": {},
   "source": [
    "\n",
    "- data representation is better as compared to numpy\n",
    "- Pandas is a Python library used for working with data sets.\n",
    "- analyzing, cleaning, exploring, and manipulating data.\n",
    "- heterogenous data"
   ]
  },
  {
   "cell_type": "markdown",
   "id": "5aaada1f",
   "metadata": {},
   "source": [
    "- can load any kind of data - excel , csv , tsv, sql , clipboard\n",
    "- get stats\n",
    "- manupulate the data"
   ]
  },
  {
   "cell_type": "code",
   "execution_count": null,
   "id": "dd6af44d",
   "metadata": {},
   "outputs": [],
   "source": [
    "### Installation of pandas\n",
    "pip install pandas"
   ]
  },
  {
   "cell_type": "markdown",
   "id": "c28c6b21",
   "metadata": {},
   "source": [
    "#### Import Pandas"
   ]
  },
  {
   "cell_type": "code",
   "execution_count": null,
   "id": "b520f999",
   "metadata": {},
   "outputs": [],
   "source": [
    "import pandas as pd"
   ]
  },
  {
   "cell_type": "markdown",
   "id": "e5cdcc74",
   "metadata": {},
   "source": [
    "### pandas has 2 data structure\n",
    "\n",
    "1. Series - 1D\n",
    "2. Dataframe - 2D"
   ]
  },
  {
   "cell_type": "code",
   "execution_count": null,
   "id": "1302bc71",
   "metadata": {},
   "outputs": [],
   "source": [
    "# Syntax -> pd.Series(list/numpy array/,index=)"
   ]
  },
  {
   "cell_type": "code",
   "execution_count": null,
   "id": "391eaef5",
   "metadata": {},
   "outputs": [],
   "source": [
    "# 1. Using list\n",
    "data = pd.Series([12,22,32,44],index=['a','b','c','d'])\n",
    "data"
   ]
  },
  {
   "cell_type": "code",
   "execution_count": null,
   "id": "92799df7",
   "metadata": {},
   "outputs": [],
   "source": [
    "a = np.arange(5)\n",
    "pd.Series(a,index=['hasna','prajwal','suresh','ramesh','prarthana'])"
   ]
  },
  {
   "cell_type": "code",
   "execution_count": null,
   "id": "50e9cace",
   "metadata": {},
   "outputs": [],
   "source": [
    "example = {'a':1,'b':2,'c':3}\n",
    "pd.Series(example)"
   ]
  },
  {
   "cell_type": "code",
   "execution_count": null,
   "id": "83d64033",
   "metadata": {},
   "outputs": [],
   "source": [
    "example = {'a':1,'b':2,'c':3}\n",
    "pd.Series(example)"
   ]
  },
  {
   "cell_type": "code",
   "execution_count": null,
   "id": "7e92126d",
   "metadata": {},
   "outputs": [],
   "source": [
    "# 1. Using list\n",
    "data = pd.Series([12,22,32,44],index=['a','b','c','d'])\n",
    "data"
   ]
  },
  {
   "cell_type": "code",
   "execution_count": null,
   "id": "3d891056",
   "metadata": {},
   "outputs": [],
   "source": [
    "# Custom Indexing\n",
    "data['c']"
   ]
  },
  {
   "cell_type": "code",
   "execution_count": null,
   "id": "f133efcd",
   "metadata": {},
   "outputs": [],
   "source": [
    "# Zero Indexing \n",
    "\n",
    "data[2]"
   ]
  },
  {
   "cell_type": "code",
   "execution_count": null,
   "id": "45267990",
   "metadata": {},
   "outputs": [],
   "source": [
    "data = pd.Series([12,22,32,44],index=['a','b','c','d'])\n",
    "data"
   ]
  },
  {
   "cell_type": "code",
   "execution_count": null,
   "id": "c36a921a",
   "metadata": {},
   "outputs": [],
   "source": [
    "# Slicing using Custom Indexing\n",
    "# Inclusive of stop\n",
    "\n",
    "data['b':'d']"
   ]
  },
  {
   "cell_type": "code",
   "execution_count": null,
   "id": "cd25cf27",
   "metadata": {},
   "outputs": [],
   "source": [
    "# Slicing Using Zero indexing\n",
    "\n",
    "data[1:3]"
   ]
  },
  {
   "cell_type": "code",
   "execution_count": null,
   "id": "3208fa85",
   "metadata": {},
   "outputs": [],
   "source": []
  },
  {
   "cell_type": "code",
   "execution_count": null,
   "id": "fb0d8515",
   "metadata": {},
   "outputs": [],
   "source": []
  },
  {
   "cell_type": "code",
   "execution_count": null,
   "id": "18cf671f",
   "metadata": {},
   "outputs": [],
   "source": []
  },
  {
   "cell_type": "code",
   "execution_count": null,
   "id": "7c651b9a",
   "metadata": {},
   "outputs": [],
   "source": []
  },
  {
   "cell_type": "code",
   "execution_count": null,
   "id": "057f75d4",
   "metadata": {},
   "outputs": [],
   "source": []
  },
  {
   "cell_type": "code",
   "execution_count": null,
   "id": "98b98980",
   "metadata": {},
   "outputs": [],
   "source": []
  },
  {
   "cell_type": "code",
   "execution_count": null,
   "id": "1c12779a",
   "metadata": {},
   "outputs": [],
   "source": [
    " "
   ]
  }
 ],
 "metadata": {
  "kernelspec": {
   "display_name": "Python 3 (ipykernel)",
   "language": "python",
   "name": "python3"
  },
  "language_info": {
   "codemirror_mode": {
    "name": "ipython",
    "version": 3
   },
   "file_extension": ".py",
   "mimetype": "text/x-python",
   "name": "python",
   "nbconvert_exporter": "python",
   "pygments_lexer": "ipython3",
   "version": "3.10.9"
  }
 },
 "nbformat": 4,
 "nbformat_minor": 5
}
