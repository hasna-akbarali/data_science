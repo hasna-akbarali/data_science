{
 "cells": [
  {
   "cell_type": "markdown",
   "id": "99d12b65",
   "metadata": {},
   "source": [
    "#### NumPy Unary Operations\n",
    "Eg: sum,prod,max,min,mean,std,var"
   ]
  },
  {
   "cell_type": "code",
   "execution_count": 1,
   "id": "b8407c28",
   "metadata": {},
   "outputs": [],
   "source": [
    "import numpy as np"
   ]
  },
  {
   "cell_type": "code",
   "execution_count": 2,
   "id": "cb57480c",
   "metadata": {},
   "outputs": [],
   "source": [
    "# On 1D array \n",
    "data = np.array([21, 10, 14, 23, 56])"
   ]
  },
  {
   "cell_type": "code",
   "execution_count": 3,
   "id": "5b47a6cb",
   "metadata": {},
   "outputs": [
    {
     "data": {
      "text/plain": [
       "124"
      ]
     },
     "execution_count": 3,
     "metadata": {},
     "output_type": "execute_result"
    }
   ],
   "source": [
    "data.sum() "
   ]
  },
  {
   "cell_type": "code",
   "execution_count": 4,
   "id": "fe0c5065",
   "metadata": {},
   "outputs": [
    {
     "data": {
      "text/plain": [
       "3786720"
      ]
     },
     "execution_count": 4,
     "metadata": {},
     "output_type": "execute_result"
    }
   ],
   "source": [
    "data.prod()"
   ]
  },
  {
   "cell_type": "code",
   "execution_count": 5,
   "id": "8c6a4b40",
   "metadata": {
    "scrolled": false
   },
   "outputs": [
    {
     "data": {
      "text/plain": [
       "array([[ 0,  1,  2,  3],\n",
       "       [ 4,  5,  6,  7],\n",
       "       [ 8,  9, 10, 11],\n",
       "       [12, 13, 14, 15],\n",
       "       [16, 17, 18, 19],\n",
       "       [20, 21, 22, 23]])"
      ]
     },
     "execution_count": 5,
     "metadata": {},
     "output_type": "execute_result"
    }
   ],
   "source": [
    "# On 2D array\n",
    "data = np.arange(24).reshape(6, 4)\n",
    "data"
   ]
  },
  {
   "cell_type": "code",
   "execution_count": 6,
   "id": "d848e372",
   "metadata": {},
   "outputs": [
    {
     "data": {
      "text/plain": [
       "array([60, 66, 72, 78])"
      ]
     },
     "execution_count": 6,
     "metadata": {},
     "output_type": "execute_result"
    }
   ],
   "source": [
    "data.sum(axis=0) # col"
   ]
  },
  {
   "cell_type": "code",
   "execution_count": 7,
   "id": "47516c7c",
   "metadata": {},
   "outputs": [
    {
     "data": {
      "text/plain": [
       "array([ 6, 22, 38, 54, 70, 86])"
      ]
     },
     "execution_count": 7,
     "metadata": {},
     "output_type": "execute_result"
    }
   ],
   "source": [
    "data.sum(axis=1) # rows "
   ]
  },
  {
   "cell_type": "code",
   "execution_count": 8,
   "id": "71b5a6da",
   "metadata": {},
   "outputs": [
    {
     "data": {
      "text/plain": [
       "276"
      ]
     },
     "execution_count": 8,
     "metadata": {},
     "output_type": "execute_result"
    }
   ],
   "source": [
    "data.sum() # default = total sum of all elements"
   ]
  },
  {
   "cell_type": "code",
   "execution_count": 9,
   "id": "df437d71",
   "metadata": {},
   "outputs": [
    {
     "data": {
      "text/plain": [
       "array([     0,    840,   7920,  32760,  93024, 212520])"
      ]
     },
     "execution_count": 9,
     "metadata": {},
     "output_type": "execute_result"
    }
   ],
   "source": [
    "data.prod(axis=1)"
   ]
  },
  {
   "cell_type": "code",
   "execution_count": 10,
   "id": "a6edc40a",
   "metadata": {},
   "outputs": [
    {
     "data": {
      "text/plain": [
       "array([      0,  208845,  665280, 1514205])"
      ]
     },
     "execution_count": 10,
     "metadata": {},
     "output_type": "execute_result"
    }
   ],
   "source": [
    "data.prod(axis=0)"
   ]
  },
  {
   "cell_type": "markdown",
   "id": "6b78d67b",
   "metadata": {},
   "source": [
    "#### Data Types in NumPy"
   ]
  },
  {
   "cell_type": "code",
   "execution_count": 11,
   "id": "36d4990c",
   "metadata": {},
   "outputs": [
    {
     "data": {
      "text/plain": [
       "dtype('int32')"
      ]
     },
     "execution_count": 11,
     "metadata": {},
     "output_type": "execute_result"
    }
   ],
   "source": [
    "## Check the datatype - dtype\n",
    "data.dtype"
   ]
  },
  {
   "cell_type": "code",
   "execution_count": 12,
   "id": "a39142cd",
   "metadata": {},
   "outputs": [
    {
     "data": {
      "text/plain": [
       "array([[ True,  True],\n",
       "       [ True,  True],\n",
       "       [ True,  True]])"
      ]
     },
     "execution_count": 12,
     "metadata": {},
     "output_type": "execute_result"
    }
   ],
   "source": [
    "# At the time of creation\n",
    "\n",
    "a = [-1,2,3,4,5,6]\n",
    "a = np.array(a,dtype=bool)\n",
    "a.reshape((3,2))"
   ]
  },
  {
   "cell_type": "code",
   "execution_count": 13,
   "id": "969d4cc3",
   "metadata": {},
   "outputs": [
    {
     "data": {
      "text/plain": [
       "array([[ True,  True,  True],\n",
       "       [ True,  True,  True]])"
      ]
     },
     "execution_count": 13,
     "metadata": {},
     "output_type": "execute_result"
    }
   ],
   "source": [
    "## Change the datatype - astype()\n",
    "# i - integer\n",
    "# b - boolean\n",
    "# f - float\n",
    "# S - string\n",
    "\n",
    "a = np.arange(1,12,2).reshape((2,3))\n",
    "a.astype(dtype=bool)"
   ]
  },
  {
   "cell_type": "markdown",
   "id": "e08867d4",
   "metadata": {},
   "source": [
    "#### Splitting and Joining in NumPy Array"
   ]
  },
  {
   "cell_type": "markdown",
   "id": "64260566",
   "metadata": {},
   "source": [
    "##### Spliting a 1D array\n",
    "###### syntax - numpy.split(array, int/list)"
   ]
  },
  {
   "cell_type": "code",
   "execution_count": 14,
   "id": "ed88f3aa",
   "metadata": {},
   "outputs": [
    {
     "data": {
      "text/plain": [
       "array([ 0,  1,  2,  3,  4,  5,  6,  7,  8,  9, 10, 11])"
      ]
     },
     "execution_count": 14,
     "metadata": {},
     "output_type": "execute_result"
    }
   ],
   "source": [
    "data = np.arange(12)\n",
    "data"
   ]
  },
  {
   "cell_type": "code",
   "execution_count": 15,
   "id": "46e93298",
   "metadata": {},
   "outputs": [
    {
     "data": {
      "text/plain": [
       "[array([0]),\n",
       " array([1, 2]),\n",
       " array([3, 4, 5]),\n",
       " array([6, 7, 8]),\n",
       " array([ 9, 10]),\n",
       " array([11])]"
      ]
     },
     "execution_count": 15,
     "metadata": {},
     "output_type": "execute_result"
    }
   ],
   "source": [
    "# Split into 3 equal parts\n",
    "np.split(data, 4)\n",
    "\n",
    "# Split at specific indices with a different example\n",
    "\n",
    "np.split(data, [1, 3, 6, 9, 11])\n",
    "\n",
    "# # [ 0,  1,  2,  3,  4,  5,  6,  7,  8,  9, 10, 11]\n",
    "\n",
    "# 0-1 -> [0]\n",
    "# 1-3 -> [1,2]\n",
    "# 3-6 -> [3,4,5]\n",
    "# 6-9 -> [6,7,8]\n",
    "# 9-11 -> [9,10]\n",
    "# 11 -> [11]\n"
   ]
  },
  {
   "cell_type": "code",
   "execution_count": 16,
   "id": "ad29f207",
   "metadata": {},
   "outputs": [
    {
     "data": {
      "text/plain": [
       "array([ 0,  2,  4,  6,  8, 10, 12, 14, 16, 18, 20, 22])"
      ]
     },
     "execution_count": 16,
     "metadata": {},
     "output_type": "execute_result"
    }
   ],
   "source": [
    "data = np.arange(12)\n",
    "data * 2"
   ]
  },
  {
   "cell_type": "code",
   "execution_count": 17,
   "id": "c5c130d9",
   "metadata": {},
   "outputs": [
    {
     "data": {
      "text/plain": [
       "[array([0, 1, 2, 3]), array([4, 5, 6, 7]), array([ 8,  9, 10, 11])]"
      ]
     },
     "execution_count": 17,
     "metadata": {},
     "output_type": "execute_result"
    }
   ],
   "source": [
    "np.split(data,3)"
   ]
  },
  {
   "cell_type": "code",
   "execution_count": 18,
   "id": "8e8a8b59",
   "metadata": {},
   "outputs": [],
   "source": [
    "#     0  1   2   3   4   5   6   7   8  9   10 11\n",
    "#[ 0,  2,  4,  6,  8, 10, 12, 14, 16, 18, 20, 22]\n",
    "\n",
    "# np.split(data, [1, 3, 6, 9, 11])\n",
    "\n",
    "# 0-1 -> [0]\n",
    "# 1-3 -> [2,4]\n",
    "# 3-6 -> [6,8,10]\n",
    "# 6-9 -> [12,14,16]\n",
    "# 9-11 -> [18,20]\n",
    "# 11 -> [22]"
   ]
  },
  {
   "cell_type": "markdown",
   "id": "ed4a70b0",
   "metadata": {},
   "source": [
    "##### Spliting a 2D array\n",
    "###### syntax - numpy.split(array, int/list,axis)\n",
    "- axis - 1 ---> column wise\n",
    "- axis - 0 ---> row wise"
   ]
  },
  {
   "cell_type": "code",
   "execution_count": 20,
   "id": "93664eaf",
   "metadata": {},
   "outputs": [
    {
     "data": {
      "text/plain": [
       "[array([[0, 1, 2, 3]]),\n",
       " array([[ 4,  5,  6,  7],\n",
       "        [ 8,  9, 10, 11]]),\n",
       " array([[12, 13, 14, 15],\n",
       "        [16, 17, 18, 19],\n",
       "        [20, 21, 22, 23]]),\n",
       " array([], shape=(0, 4), dtype=int32),\n",
       " array([], shape=(0, 4), dtype=int32),\n",
       " array([], shape=(0, 4), dtype=int32)]"
      ]
     },
     "execution_count": 20,
     "metadata": {},
     "output_type": "execute_result"
    }
   ],
   "source": [
    "data_2d = np.arange(24).reshape(6, 4)\n",
    "data_2d\n",
    "\n",
    "# Split into 3 equal parts- default row wise\n",
    "np.split(data_2d, 3)\n",
    "\n",
    "\n",
    "# array([[ 0,  1,  2,  3],\n",
    "#        [ 4,  5,  6,  7],\n",
    "#        [ 8,  9, 10, 11],\n",
    "#        [12, 13, 14, 15],\n",
    "#        [16, 17, 18, 19],\n",
    "#        [20, 21, 22, 23]])\n",
    "\n",
    "# Split at specific indices with a different example\n",
    "np.split(data_2d, [1, 3, 6, 9, 11])\n",
    "\n",
    "# 0-1 - > [0,1,2,3]\n",
    "# 1-3 -> [4,5,6,7]\n",
    "#        [8,9,10,11]\n",
    "# 3-6 -> [12, 13, 14, 15],\n",
    "#        [16, 17, 18, 19],\n",
    "#        [20, 21, 22, 23]\n",
    "        \n",
    "# 6-9 -> []\n",
    "# 9-11 -> []"
   ]
  },
  {
   "cell_type": "code",
   "execution_count": 21,
   "id": "08012fa4",
   "metadata": {},
   "outputs": [
    {
     "data": {
      "text/plain": [
       "[array([[0, 1, 2, 3],\n",
       "        [4, 5, 6, 7]]),\n",
       " array([[ 8,  9, 10, 11],\n",
       "        [12, 13, 14, 15]]),\n",
       " array([[16, 17, 18, 19],\n",
       "        [20, 21, 22, 23]]),\n",
       " array([], shape=(0, 4), dtype=int32),\n",
       " array([], shape=(0, 4), dtype=int32)]"
      ]
     },
     "execution_count": 21,
     "metadata": {},
     "output_type": "execute_result"
    }
   ],
   "source": [
    "# Split at specific indices along rows\n",
    "np.split(data_2d, [2, 4, 6, 9], axis=0)"
   ]
  },
  {
   "cell_type": "code",
   "execution_count": null,
   "id": "c484243f",
   "metadata": {},
   "outputs": [],
   "source": [
    "data_2d"
   ]
  },
  {
   "cell_type": "code",
   "execution_count": null,
   "id": "f23d78bd",
   "metadata": {},
   "outputs": [],
   "source": []
  }
 ],
 "metadata": {
  "kernelspec": {
   "display_name": "Python 3 (ipykernel)",
   "language": "python",
   "name": "python3"
  },
  "language_info": {
   "codemirror_mode": {
    "name": "ipython",
    "version": 3
   },
   "file_extension": ".py",
   "mimetype": "text/x-python",
   "name": "python",
   "nbconvert_exporter": "python",
   "pygments_lexer": "ipython3",
   "version": "3.10.9"
  }
 },
 "nbformat": 4,
 "nbformat_minor": 5
}
